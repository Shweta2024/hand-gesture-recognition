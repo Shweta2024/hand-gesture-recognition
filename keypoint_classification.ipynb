{
 "cells": [
  {
   "cell_type": "code",
   "execution_count": 44,
   "metadata": {},
   "outputs": [],
   "source": [
    "import csv\n",
    "\n",
    "import numpy as np\n",
    "import tensorflow as tf\n",
    "from sklearn.model_selection import train_test_split\n",
    "\n",
    "RANDOM_SEED = 42"
   ]
  },
  {
   "cell_type": "markdown",
   "metadata": {},
   "source": [
    "# 各パス指定"
   ]
  },
  {
   "cell_type": "code",
   "execution_count": 45,
   "metadata": {},
   "outputs": [],
   "source": [
    "dataset = 'model/keypoint_classifier/keypoint.csv'\n",
    "model_save_path = 'model/keypoint_classifier/keypoint_classifier.hdf5'"
   ]
  },
  {
   "cell_type": "markdown",
   "metadata": {},
   "source": [
    "# 分類数設定"
   ]
  },
  {
   "cell_type": "code",
   "execution_count": 46,
   "metadata": {},
   "outputs": [],
   "source": [
    "NUM_CLASSES = 5"
   ]
  },
  {
   "cell_type": "markdown",
   "metadata": {},
   "source": [
    "# 学習データ読み込み"
   ]
  },
  {
   "cell_type": "code",
   "execution_count": 47,
   "metadata": {},
   "outputs": [],
   "source": [
    "X_dataset = np.loadtxt(dataset, delimiter=',', dtype='float32', usecols=list(range(1, (21 * 2) + 1)))"
   ]
  },
  {
   "cell_type": "code",
   "execution_count": 48,
   "metadata": {},
   "outputs": [],
   "source": [
    "y_dataset = np.loadtxt(dataset, delimiter=',', dtype='int32', usecols=(0))"
   ]
  },
  {
   "cell_type": "code",
   "execution_count": 49,
   "metadata": {},
   "outputs": [],
   "source": [
    "X_train, X_test, y_train, y_test = train_test_split(X_dataset, y_dataset, train_size=0.75, random_state=RANDOM_SEED)"
   ]
  },
  {
   "cell_type": "markdown",
   "metadata": {},
   "source": [
    "# モデル構築"
   ]
  },
  {
   "cell_type": "code",
   "execution_count": 50,
   "metadata": {},
   "outputs": [],
   "source": [
    "model = tf.keras.models.Sequential([\n",
    "    tf.keras.layers.Input((21 * 2, )),\n",
    "    tf.keras.layers.Dropout(0.2),\n",
    "    tf.keras.layers.Dense(20, activation='relu'),\n",
    "    tf.keras.layers.Dropout(0.4),\n",
    "    tf.keras.layers.Dense(10, activation='relu'),\n",
    "    tf.keras.layers.Dense(NUM_CLASSES, activation='softmax')\n",
    "])"
   ]
  },
  {
   "cell_type": "code",
   "execution_count": 8,
   "metadata": {},
   "outputs": [
    {
     "name": "stdout",
     "output_type": "stream",
     "text": [
      "Model: \"sequential\"\n",
      "_________________________________________________________________\n",
      " Layer (type)                Output Shape              Param #   \n",
      "=================================================================\n",
      " dropout (Dropout)           (None, 42)                0         \n",
      "                                                                 \n",
      " dense (Dense)               (None, 20)                860       \n",
      "                                                                 \n",
      " dropout_1 (Dropout)         (None, 20)                0         \n",
      "                                                                 \n",
      " dense_1 (Dense)             (None, 10)                210       \n",
      "                                                                 \n",
      " dense_2 (Dense)             (None, 4)                 44        \n",
      "                                                                 \n",
      "=================================================================\n",
      "Total params: 1,114\n",
      "Trainable params: 1,114\n",
      "Non-trainable params: 0\n",
      "_________________________________________________________________\n"
     ]
    }
   ],
   "source": [
    "model.summary()  # tf.keras.utils.plot_model(model, show_shapes=True)"
   ]
  },
  {
   "cell_type": "code",
   "execution_count": 51,
   "metadata": {},
   "outputs": [],
   "source": [
    "# モデルチェックポイントのコールバック\n",
    "cp_callback = tf.keras.callbacks.ModelCheckpoint(\n",
    "    model_save_path, verbose=1, save_weights_only=False)\n",
    "# 早期打ち切り用コールバック\n",
    "es_callback = tf.keras.callbacks.EarlyStopping(patience=20, verbose=1)"
   ]
  },
  {
   "cell_type": "code",
   "execution_count": 52,
   "metadata": {},
   "outputs": [],
   "source": [
    "# モデルコンパイル\n",
    "model.compile(\n",
    "    optimizer='adam',\n",
    "    loss='sparse_categorical_crossentropy',\n",
    "    metrics=['accuracy']\n",
    ")"
   ]
  },
  {
   "cell_type": "markdown",
   "metadata": {},
   "source": [
    "# モデル訓練"
   ]
  },
  {
   "cell_type": "code",
   "execution_count": 53,
   "metadata": {
    "scrolled": true
   },
   "outputs": [
    {
     "name": "stdout",
     "output_type": "stream",
     "text": [
      "Epoch 1/1000\n"
     ]
    },
    {
     "name": "stdout",
     "output_type": "stream",
     "text": [
      "24/42 [================>.............] - ETA: 0s - loss: 1.7966 - accuracy: 0.1569 \n",
      "Epoch 1: saving model to model/keypoint_classifier\\keypoint_classifier.hdf5\n",
      "42/42 [==============================] - 1s 8ms/step - loss: 1.7359 - accuracy: 0.1673 - val_loss: 1.5964 - val_accuracy: 0.2656\n",
      "Epoch 2/1000\n",
      "24/42 [================>.............] - ETA: 0s - loss: 1.6014 - accuracy: 0.2207\n",
      "Epoch 2: saving model to model/keypoint_classifier\\keypoint_classifier.hdf5\n",
      "42/42 [==============================] - 0s 4ms/step - loss: 1.5889 - accuracy: 0.2261 - val_loss: 1.5198 - val_accuracy: 0.3066\n",
      "Epoch 3/1000\n",
      "23/42 [===============>..............] - ETA: 0s - loss: 1.5518 - accuracy: 0.2500\n",
      "Epoch 3: saving model to model/keypoint_classifier\\keypoint_classifier.hdf5\n",
      "42/42 [==============================] - 0s 4ms/step - loss: 1.5359 - accuracy: 0.2611 - val_loss: 1.4528 - val_accuracy: 0.3869\n",
      "Epoch 4/1000\n",
      "27/42 [==================>...........] - ETA: 0s - loss: 1.4938 - accuracy: 0.2992\n",
      "Epoch 4: saving model to model/keypoint_classifier\\keypoint_classifier.hdf5\n",
      "42/42 [==============================] - 0s 4ms/step - loss: 1.4888 - accuracy: 0.2985 - val_loss: 1.3944 - val_accuracy: 0.4587\n",
      "Epoch 5/1000\n",
      "27/42 [==================>...........] - ETA: 0s - loss: 1.4451 - accuracy: 0.3281\n",
      "Epoch 5: saving model to model/keypoint_classifier\\keypoint_classifier.hdf5\n",
      "42/42 [==============================] - 0s 3ms/step - loss: 1.4438 - accuracy: 0.3285 - val_loss: 1.3331 - val_accuracy: 0.4891\n",
      "Epoch 6/1000\n",
      "35/42 [========================>.....] - ETA: 0s - loss: 1.4052 - accuracy: 0.3565\n",
      "Epoch 6: saving model to model/keypoint_classifier\\keypoint_classifier.hdf5\n",
      "42/42 [==============================] - 0s 3ms/step - loss: 1.3998 - accuracy: 0.3601 - val_loss: 1.2538 - val_accuracy: 0.5469\n",
      "Epoch 7/1000\n",
      "26/42 [=================>............] - ETA: 0s - loss: 1.3549 - accuracy: 0.3900\n",
      "Epoch 7: saving model to model/keypoint_classifier\\keypoint_classifier.hdf5\n",
      "42/42 [==============================] - 0s 4ms/step - loss: 1.3418 - accuracy: 0.4028 - val_loss: 1.1731 - val_accuracy: 0.5514\n",
      "Epoch 8/1000\n",
      "28/42 [===================>..........] - ETA: 0s - loss: 1.3003 - accuracy: 0.4191\n",
      "Epoch 8: saving model to model/keypoint_classifier\\keypoint_classifier.hdf5\n",
      "42/42 [==============================] - 0s 3ms/step - loss: 1.3024 - accuracy: 0.4181 - val_loss: 1.1085 - val_accuracy: 0.6485\n",
      "Epoch 9/1000\n",
      "29/42 [===================>..........] - ETA: 0s - loss: 1.2534 - accuracy: 0.4569\n",
      "Epoch 9: saving model to model/keypoint_classifier\\keypoint_classifier.hdf5\n",
      "42/42 [==============================] - 0s 3ms/step - loss: 1.2477 - accuracy: 0.4531 - val_loss: 1.0490 - val_accuracy: 0.6564\n",
      "Epoch 10/1000\n",
      "39/42 [==========================>...] - ETA: 0s - loss: 1.2144 - accuracy: 0.4770\n",
      "Epoch 10: saving model to model/keypoint_classifier\\keypoint_classifier.hdf5\n",
      "42/42 [==============================] - 0s 6ms/step - loss: 1.2137 - accuracy: 0.4771 - val_loss: 1.0033 - val_accuracy: 0.6923\n",
      "Epoch 11/1000\n",
      "24/42 [================>.............] - ETA: 0s - loss: 1.2053 - accuracy: 0.4873\n",
      "Epoch 11: saving model to model/keypoint_classifier\\keypoint_classifier.hdf5\n",
      "42/42 [==============================] - 0s 3ms/step - loss: 1.1942 - accuracy: 0.4861 - val_loss: 0.9622 - val_accuracy: 0.7092\n",
      "Epoch 12/1000\n",
      "32/42 [=====================>........] - ETA: 0s - loss: 1.1518 - accuracy: 0.5100\n",
      "Epoch 12: saving model to model/keypoint_classifier\\keypoint_classifier.hdf5\n",
      "42/42 [==============================] - 0s 4ms/step - loss: 1.1521 - accuracy: 0.5076 - val_loss: 0.9250 - val_accuracy: 0.7254\n",
      "Epoch 13/1000\n",
      "39/42 [==========================>...] - ETA: 0s - loss: 1.1226 - accuracy: 0.5280\n",
      "Epoch 13: saving model to model/keypoint_classifier\\keypoint_classifier.hdf5\n",
      "42/42 [==============================] - 0s 5ms/step - loss: 1.1270 - accuracy: 0.5274 - val_loss: 0.8945 - val_accuracy: 0.7406\n",
      "Epoch 14/1000\n",
      "34/42 [=======================>......] - ETA: 0s - loss: 1.1267 - accuracy: 0.5269\n",
      "Epoch 14: saving model to model/keypoint_classifier\\keypoint_classifier.hdf5\n",
      "42/42 [==============================] - 0s 3ms/step - loss: 1.1276 - accuracy: 0.5278 - val_loss: 0.8752 - val_accuracy: 0.7445\n",
      "Epoch 15/1000\n",
      "31/42 [=====================>........] - ETA: 0s - loss: 1.0811 - accuracy: 0.5484\n",
      "Epoch 15: saving model to model/keypoint_classifier\\keypoint_classifier.hdf5\n",
      "42/42 [==============================] - 0s 3ms/step - loss: 1.0799 - accuracy: 0.5512 - val_loss: 0.8412 - val_accuracy: 0.7496\n",
      "Epoch 16/1000\n",
      "30/42 [====================>.........] - ETA: 0s - loss: 1.0748 - accuracy: 0.5591\n",
      "Epoch 16: saving model to model/keypoint_classifier\\keypoint_classifier.hdf5\n",
      "42/42 [==============================] - 0s 3ms/step - loss: 1.0732 - accuracy: 0.5551 - val_loss: 0.8123 - val_accuracy: 0.7597\n",
      "Epoch 17/1000\n",
      "25/42 [================>.............] - ETA: 0s - loss: 1.0455 - accuracy: 0.5750\n",
      "Epoch 17: saving model to model/keypoint_classifier\\keypoint_classifier.hdf5\n",
      "42/42 [==============================] - 0s 3ms/step - loss: 1.0452 - accuracy: 0.5714 - val_loss: 0.7911 - val_accuracy: 0.7692\n",
      "Epoch 18/1000\n",
      "36/42 [========================>.....] - ETA: 0s - loss: 1.0336 - accuracy: 0.5836\n",
      "Epoch 18: saving model to model/keypoint_classifier\\keypoint_classifier.hdf5\n",
      "42/42 [==============================] - 0s 3ms/step - loss: 1.0336 - accuracy: 0.5856 - val_loss: 0.7665 - val_accuracy: 0.7872\n",
      "Epoch 19/1000\n",
      "31/42 [=====================>........] - ETA: 0s - loss: 1.0116 - accuracy: 0.5945\n",
      "Epoch 19: saving model to model/keypoint_classifier\\keypoint_classifier.hdf5\n",
      "42/42 [==============================] - 0s 3ms/step - loss: 1.0165 - accuracy: 0.5942 - val_loss: 0.7378 - val_accuracy: 0.8102\n",
      "Epoch 20/1000\n",
      "30/42 [====================>.........] - ETA: 0s - loss: 1.0058 - accuracy: 0.5956\n",
      "Epoch 20: saving model to model/keypoint_classifier\\keypoint_classifier.hdf5\n",
      "42/42 [==============================] - 0s 3ms/step - loss: 0.9978 - accuracy: 0.6058 - val_loss: 0.7188 - val_accuracy: 0.8141\n",
      "Epoch 21/1000\n",
      "30/42 [====================>.........] - ETA: 0s - loss: 0.9799 - accuracy: 0.6185\n",
      "Epoch 21: saving model to model/keypoint_classifier\\keypoint_classifier.hdf5\n",
      "42/42 [==============================] - 0s 3ms/step - loss: 0.9823 - accuracy: 0.6180 - val_loss: 0.6924 - val_accuracy: 0.8141\n",
      "Epoch 22/1000\n",
      "30/42 [====================>.........] - ETA: 0s - loss: 0.9641 - accuracy: 0.6148\n",
      "Epoch 22: saving model to model/keypoint_classifier\\keypoint_classifier.hdf5\n",
      "42/42 [==============================] - 0s 3ms/step - loss: 0.9621 - accuracy: 0.6173 - val_loss: 0.6730 - val_accuracy: 0.8259\n",
      "Epoch 23/1000\n",
      "28/42 [===================>..........] - ETA: 0s - loss: 0.9699 - accuracy: 0.6130\n",
      "Epoch 23: saving model to model/keypoint_classifier\\keypoint_classifier.hdf5\n",
      "42/42 [==============================] - 0s 3ms/step - loss: 0.9574 - accuracy: 0.6203 - val_loss: 0.6624 - val_accuracy: 0.8344\n",
      "Epoch 24/1000\n",
      "29/42 [===================>..........] - ETA: 0s - loss: 0.9677 - accuracy: 0.6142\n",
      "Epoch 24: saving model to model/keypoint_classifier\\keypoint_classifier.hdf5\n",
      "42/42 [==============================] - 0s 3ms/step - loss: 0.9559 - accuracy: 0.6242 - val_loss: 0.6467 - val_accuracy: 0.8445\n",
      "Epoch 25/1000\n",
      "27/42 [==================>...........] - ETA: 0s - loss: 0.9245 - accuracy: 0.6435\n",
      "Epoch 25: saving model to model/keypoint_classifier\\keypoint_classifier.hdf5\n",
      "42/42 [==============================] - 0s 3ms/step - loss: 0.9220 - accuracy: 0.6425 - val_loss: 0.6184 - val_accuracy: 0.8445\n",
      "Epoch 26/1000\n",
      "34/42 [=======================>......] - ETA: 0s - loss: 0.9354 - accuracy: 0.6328\n",
      "Epoch 26: saving model to model/keypoint_classifier\\keypoint_classifier.hdf5\n",
      "42/42 [==============================] - 0s 3ms/step - loss: 0.9261 - accuracy: 0.6382 - val_loss: 0.6125 - val_accuracy: 0.8619\n",
      "Epoch 27/1000\n",
      "30/42 [====================>.........] - ETA: 0s - loss: 0.8990 - accuracy: 0.6521\n",
      "Epoch 27: saving model to model/keypoint_classifier\\keypoint_classifier.hdf5\n",
      "42/42 [==============================] - 0s 3ms/step - loss: 0.8973 - accuracy: 0.6536 - val_loss: 0.5925 - val_accuracy: 0.8647\n",
      "Epoch 28/1000\n",
      "20/42 [=============>................] - ETA: 0s - loss: 0.9009 - accuracy: 0.6473\n",
      "Epoch 28: saving model to model/keypoint_classifier\\keypoint_classifier.hdf5\n",
      "42/42 [==============================] - 0s 4ms/step - loss: 0.8926 - accuracy: 0.6566 - val_loss: 0.5800 - val_accuracy: 0.8720\n",
      "Epoch 29/1000\n",
      "30/42 [====================>.........] - ETA: 0s - loss: 0.8727 - accuracy: 0.6664\n",
      "Epoch 29: saving model to model/keypoint_classifier\\keypoint_classifier.hdf5\n",
      "42/42 [==============================] - 0s 4ms/step - loss: 0.8718 - accuracy: 0.6646 - val_loss: 0.5572 - val_accuracy: 0.8714\n",
      "Epoch 30/1000\n",
      "28/42 [===================>..........] - ETA: 0s - loss: 0.8803 - accuracy: 0.6607\n",
      "Epoch 30: saving model to model/keypoint_classifier\\keypoint_classifier.hdf5\n",
      "42/42 [==============================] - 0s 3ms/step - loss: 0.8675 - accuracy: 0.6669 - val_loss: 0.5460 - val_accuracy: 0.8709\n",
      "Epoch 31/1000\n",
      "30/42 [====================>.........] - ETA: 0s - loss: 0.8524 - accuracy: 0.6685\n",
      "Epoch 31: saving model to model/keypoint_classifier\\keypoint_classifier.hdf5\n",
      "42/42 [==============================] - 0s 3ms/step - loss: 0.8554 - accuracy: 0.6678 - val_loss: 0.5308 - val_accuracy: 0.8765\n",
      "Epoch 32/1000\n",
      "25/42 [================>.............] - ETA: 0s - loss: 0.8251 - accuracy: 0.6866\n",
      "Epoch 32: saving model to model/keypoint_classifier\\keypoint_classifier.hdf5\n",
      "42/42 [==============================] - 0s 3ms/step - loss: 0.8409 - accuracy: 0.6753 - val_loss: 0.5192 - val_accuracy: 0.8731\n",
      "Epoch 33/1000\n",
      "32/42 [=====================>........] - ETA: 0s - loss: 0.8275 - accuracy: 0.6919\n",
      "Epoch 33: saving model to model/keypoint_classifier\\keypoint_classifier.hdf5\n",
      "42/42 [==============================] - 0s 3ms/step - loss: 0.8205 - accuracy: 0.6925 - val_loss: 0.5107 - val_accuracy: 0.8782\n",
      "Epoch 34/1000\n",
      "30/42 [====================>.........] - ETA: 0s - loss: 0.8337 - accuracy: 0.6826\n",
      "Epoch 34: saving model to model/keypoint_classifier\\keypoint_classifier.hdf5\n",
      "42/42 [==============================] - 0s 3ms/step - loss: 0.8413 - accuracy: 0.6788 - val_loss: 0.4962 - val_accuracy: 0.8776\n",
      "Epoch 35/1000\n",
      "27/42 [==================>...........] - ETA: 0s - loss: 0.8387 - accuracy: 0.6889\n",
      "Epoch 35: saving model to model/keypoint_classifier\\keypoint_classifier.hdf5\n",
      "42/42 [==============================] - 0s 3ms/step - loss: 0.8281 - accuracy: 0.6916 - val_loss: 0.4970 - val_accuracy: 0.8765\n",
      "Epoch 36/1000\n",
      "24/42 [================>.............] - ETA: 0s - loss: 0.8325 - accuracy: 0.6803\n",
      "Epoch 36: saving model to model/keypoint_classifier\\keypoint_classifier.hdf5\n",
      "42/42 [==============================] - 0s 3ms/step - loss: 0.8259 - accuracy: 0.6833 - val_loss: 0.4883 - val_accuracy: 0.8810\n",
      "Epoch 37/1000\n",
      "31/42 [=====================>........] - ETA: 0s - loss: 0.8130 - accuracy: 0.6847\n",
      "Epoch 37: saving model to model/keypoint_classifier\\keypoint_classifier.hdf5\n",
      "42/42 [==============================] - 0s 3ms/step - loss: 0.8159 - accuracy: 0.6841 - val_loss: 0.4821 - val_accuracy: 0.8838\n",
      "Epoch 38/1000\n",
      "32/42 [=====================>........] - ETA: 0s - loss: 0.8058 - accuracy: 0.6985\n",
      "Epoch 38: saving model to model/keypoint_classifier\\keypoint_classifier.hdf5\n",
      "42/42 [==============================] - 0s 3ms/step - loss: 0.8012 - accuracy: 0.6977 - val_loss: 0.4786 - val_accuracy: 0.8866\n",
      "Epoch 39/1000\n",
      "29/42 [===================>..........] - ETA: 0s - loss: 0.8044 - accuracy: 0.6956\n",
      "Epoch 39: saving model to model/keypoint_classifier\\keypoint_classifier.hdf5\n",
      "42/42 [==============================] - 0s 3ms/step - loss: 0.7942 - accuracy: 0.6968 - val_loss: 0.4614 - val_accuracy: 0.8916\n",
      "Epoch 40/1000\n",
      "28/42 [===================>..........] - ETA: 0s - loss: 0.7948 - accuracy: 0.6875\n",
      "Epoch 40: saving model to model/keypoint_classifier\\keypoint_classifier.hdf5\n",
      "42/42 [==============================] - 0s 3ms/step - loss: 0.7963 - accuracy: 0.6929 - val_loss: 0.4530 - val_accuracy: 0.8899\n",
      "Epoch 41/1000\n",
      "19/42 [============>.................] - ETA: 0s - loss: 0.8002 - accuracy: 0.6949\n",
      "Epoch 41: saving model to model/keypoint_classifier\\keypoint_classifier.hdf5\n",
      "42/42 [==============================] - 0s 3ms/step - loss: 0.7989 - accuracy: 0.6932 - val_loss: 0.4540 - val_accuracy: 0.8944\n",
      "Epoch 42/1000\n",
      "27/42 [==================>...........] - ETA: 0s - loss: 0.7748 - accuracy: 0.7118\n",
      "Epoch 42: saving model to model/keypoint_classifier\\keypoint_classifier.hdf5\n",
      "42/42 [==============================] - 0s 4ms/step - loss: 0.7739 - accuracy: 0.7086 - val_loss: 0.4397 - val_accuracy: 0.8978\n",
      "Epoch 43/1000\n",
      "25/42 [================>.............] - ETA: 0s - loss: 0.7509 - accuracy: 0.7150\n",
      "Epoch 43: saving model to model/keypoint_classifier\\keypoint_classifier.hdf5\n",
      "42/42 [==============================] - 0s 3ms/step - loss: 0.7611 - accuracy: 0.7065 - val_loss: 0.4329 - val_accuracy: 0.8978\n",
      "Epoch 44/1000\n",
      "28/42 [===================>..........] - ETA: 0s - loss: 0.7730 - accuracy: 0.7062\n",
      "Epoch 44: saving model to model/keypoint_classifier\\keypoint_classifier.hdf5\n",
      "42/42 [==============================] - 0s 3ms/step - loss: 0.7699 - accuracy: 0.7030 - val_loss: 0.4297 - val_accuracy: 0.9023\n",
      "Epoch 45/1000\n",
      "31/42 [=====================>........] - ETA: 0s - loss: 0.7752 - accuracy: 0.7072\n",
      "Epoch 45: saving model to model/keypoint_classifier\\keypoint_classifier.hdf5\n",
      "42/42 [==============================] - 0s 3ms/step - loss: 0.7706 - accuracy: 0.7069 - val_loss: 0.4230 - val_accuracy: 0.9017\n",
      "Epoch 46/1000\n",
      "25/42 [================>.............] - ETA: 0s - loss: 0.7676 - accuracy: 0.7072\n",
      "Epoch 46: saving model to model/keypoint_classifier\\keypoint_classifier.hdf5\n",
      "42/42 [==============================] - 0s 3ms/step - loss: 0.7640 - accuracy: 0.7037 - val_loss: 0.4100 - val_accuracy: 0.9029\n",
      "Epoch 47/1000\n",
      "29/42 [===================>..........] - ETA: 0s - loss: 0.7739 - accuracy: 0.7018\n",
      "Epoch 47: saving model to model/keypoint_classifier\\keypoint_classifier.hdf5\n",
      "42/42 [==============================] - 0s 3ms/step - loss: 0.7641 - accuracy: 0.7041 - val_loss: 0.4101 - val_accuracy: 0.9074\n",
      "Epoch 48/1000\n",
      "32/42 [=====================>........] - ETA: 0s - loss: 0.7704 - accuracy: 0.7041\n",
      "Epoch 48: saving model to model/keypoint_classifier\\keypoint_classifier.hdf5\n",
      "42/42 [==============================] - 0s 3ms/step - loss: 0.7686 - accuracy: 0.7054 - val_loss: 0.4165 - val_accuracy: 0.9074\n",
      "Epoch 49/1000\n",
      "28/42 [===================>..........] - ETA: 0s - loss: 0.7520 - accuracy: 0.7182\n",
      "Epoch 49: saving model to model/keypoint_classifier\\keypoint_classifier.hdf5\n",
      "42/42 [==============================] - 0s 3ms/step - loss: 0.7479 - accuracy: 0.7213 - val_loss: 0.4033 - val_accuracy: 0.9130\n",
      "Epoch 50/1000\n",
      "24/42 [================>.............] - ETA: 0s - loss: 0.7512 - accuracy: 0.7031\n",
      "Epoch 50: saving model to model/keypoint_classifier\\keypoint_classifier.hdf5\n",
      "42/42 [==============================] - 0s 3ms/step - loss: 0.7372 - accuracy: 0.7131 - val_loss: 0.3944 - val_accuracy: 0.9079\n",
      "Epoch 51/1000\n",
      "31/42 [=====================>........] - ETA: 0s - loss: 0.7359 - accuracy: 0.7238\n",
      "Epoch 51: saving model to model/keypoint_classifier\\keypoint_classifier.hdf5\n",
      "42/42 [==============================] - 0s 3ms/step - loss: 0.7363 - accuracy: 0.7223 - val_loss: 0.3978 - val_accuracy: 0.9102\n",
      "Epoch 52/1000\n",
      "31/42 [=====================>........] - ETA: 0s - loss: 0.7331 - accuracy: 0.7213\n",
      "Epoch 52: saving model to model/keypoint_classifier\\keypoint_classifier.hdf5\n",
      "42/42 [==============================] - 0s 3ms/step - loss: 0.7350 - accuracy: 0.7234 - val_loss: 0.3879 - val_accuracy: 0.9147\n",
      "Epoch 53/1000\n",
      "33/42 [======================>.......] - ETA: 0s - loss: 0.7392 - accuracy: 0.7218\n",
      "Epoch 53: saving model to model/keypoint_classifier\\keypoint_classifier.hdf5\n",
      "42/42 [==============================] - 0s 3ms/step - loss: 0.7401 - accuracy: 0.7194 - val_loss: 0.3857 - val_accuracy: 0.9169\n",
      "Epoch 54/1000\n",
      "28/42 [===================>..........] - ETA: 0s - loss: 0.7290 - accuracy: 0.7274\n",
      "Epoch 54: saving model to model/keypoint_classifier\\keypoint_classifier.hdf5\n",
      "42/42 [==============================] - 0s 3ms/step - loss: 0.7261 - accuracy: 0.7262 - val_loss: 0.3756 - val_accuracy: 0.9175\n",
      "Epoch 55/1000\n",
      "31/42 [=====================>........] - ETA: 0s - loss: 0.7476 - accuracy: 0.7097\n",
      "Epoch 55: saving model to model/keypoint_classifier\\keypoint_classifier.hdf5\n",
      "42/42 [==============================] - 0s 3ms/step - loss: 0.7375 - accuracy: 0.7150 - val_loss: 0.3777 - val_accuracy: 0.9186\n",
      "Epoch 56/1000\n",
      "30/42 [====================>.........] - ETA: 0s - loss: 0.7504 - accuracy: 0.7214\n",
      "Epoch 56: saving model to model/keypoint_classifier\\keypoint_classifier.hdf5\n",
      "42/42 [==============================] - 0s 3ms/step - loss: 0.7455 - accuracy: 0.7204 - val_loss: 0.3744 - val_accuracy: 0.9220\n",
      "Epoch 57/1000\n",
      "28/42 [===================>..........] - ETA: 0s - loss: 0.7177 - accuracy: 0.7310\n",
      "Epoch 57: saving model to model/keypoint_classifier\\keypoint_classifier.hdf5\n",
      "42/42 [==============================] - 0s 3ms/step - loss: 0.7097 - accuracy: 0.7329 - val_loss: 0.3730 - val_accuracy: 0.9264\n",
      "Epoch 58/1000\n",
      "27/42 [==================>...........] - ETA: 0s - loss: 0.7149 - accuracy: 0.7231\n",
      "Epoch 58: saving model to model/keypoint_classifier\\keypoint_classifier.hdf5\n",
      "42/42 [==============================] - 0s 3ms/step - loss: 0.7183 - accuracy: 0.7266 - val_loss: 0.3689 - val_accuracy: 0.9343\n",
      "Epoch 59/1000\n",
      "29/42 [===================>..........] - ETA: 0s - loss: 0.7055 - accuracy: 0.7279\n",
      "Epoch 59: saving model to model/keypoint_classifier\\keypoint_classifier.hdf5\n",
      "42/42 [==============================] - 0s 3ms/step - loss: 0.7182 - accuracy: 0.7238 - val_loss: 0.3678 - val_accuracy: 0.9259\n",
      "Epoch 60/1000\n",
      "31/42 [=====================>........] - ETA: 0s - loss: 0.7067 - accuracy: 0.7351\n",
      "Epoch 60: saving model to model/keypoint_classifier\\keypoint_classifier.hdf5\n",
      "42/42 [==============================] - 0s 3ms/step - loss: 0.7089 - accuracy: 0.7335 - val_loss: 0.3603 - val_accuracy: 0.9242\n",
      "Epoch 61/1000\n",
      "29/42 [===================>..........] - ETA: 0s - loss: 0.7251 - accuracy: 0.7268\n",
      "Epoch 61: saving model to model/keypoint_classifier\\keypoint_classifier.hdf5\n",
      "42/42 [==============================] - 0s 3ms/step - loss: 0.7262 - accuracy: 0.7254 - val_loss: 0.3728 - val_accuracy: 0.9220\n",
      "Epoch 62/1000\n",
      "30/42 [====================>.........] - ETA: 0s - loss: 0.7072 - accuracy: 0.7326\n",
      "Epoch 62: saving model to model/keypoint_classifier\\keypoint_classifier.hdf5\n",
      "42/42 [==============================] - 0s 3ms/step - loss: 0.7008 - accuracy: 0.7346 - val_loss: 0.3626 - val_accuracy: 0.9270\n",
      "Epoch 63/1000\n",
      "32/42 [=====================>........] - ETA: 0s - loss: 0.7143 - accuracy: 0.7190\n",
      "Epoch 63: saving model to model/keypoint_classifier\\keypoint_classifier.hdf5\n",
      "42/42 [==============================] - 0s 3ms/step - loss: 0.7126 - accuracy: 0.7204 - val_loss: 0.3506 - val_accuracy: 0.9377\n",
      "Epoch 64/1000\n",
      "34/42 [=======================>......] - ETA: 0s - loss: 0.7182 - accuracy: 0.7204\n",
      "Epoch 64: saving model to model/keypoint_classifier\\keypoint_classifier.hdf5\n",
      "42/42 [==============================] - 0s 3ms/step - loss: 0.7180 - accuracy: 0.7230 - val_loss: 0.3615 - val_accuracy: 0.9337\n",
      "Epoch 65/1000\n",
      "38/42 [==========================>...] - ETA: 0s - loss: 0.7144 - accuracy: 0.7301\n",
      "Epoch 65: saving model to model/keypoint_classifier\\keypoint_classifier.hdf5\n",
      "42/42 [==============================] - 0s 5ms/step - loss: 0.7082 - accuracy: 0.7307 - val_loss: 0.3488 - val_accuracy: 0.9321\n",
      "Epoch 66/1000\n",
      "30/42 [====================>.........] - ETA: 0s - loss: 0.6904 - accuracy: 0.7404\n",
      "Epoch 66: saving model to model/keypoint_classifier\\keypoint_classifier.hdf5\n",
      "42/42 [==============================] - 0s 3ms/step - loss: 0.6860 - accuracy: 0.7449 - val_loss: 0.3440 - val_accuracy: 0.9349\n",
      "Epoch 67/1000\n",
      "31/42 [=====================>........] - ETA: 0s - loss: 0.6995 - accuracy: 0.7384\n",
      "Epoch 67: saving model to model/keypoint_classifier\\keypoint_classifier.hdf5\n",
      "42/42 [==============================] - 0s 3ms/step - loss: 0.6950 - accuracy: 0.7378 - val_loss: 0.3478 - val_accuracy: 0.9304\n",
      "Epoch 68/1000\n",
      "31/42 [=====================>........] - ETA: 0s - loss: 0.7025 - accuracy: 0.7359\n",
      "Epoch 68: saving model to model/keypoint_classifier\\keypoint_classifier.hdf5\n",
      "42/42 [==============================] - 0s 3ms/step - loss: 0.6926 - accuracy: 0.7382 - val_loss: 0.3407 - val_accuracy: 0.9287\n",
      "Epoch 69/1000\n",
      "25/42 [================>.............] - ETA: 0s - loss: 0.7010 - accuracy: 0.7328\n",
      "Epoch 69: saving model to model/keypoint_classifier\\keypoint_classifier.hdf5\n",
      "42/42 [==============================] - 0s 3ms/step - loss: 0.7022 - accuracy: 0.7290 - val_loss: 0.3499 - val_accuracy: 0.9326\n",
      "Epoch 70/1000\n",
      "31/42 [=====================>........] - ETA: 0s - loss: 0.6891 - accuracy: 0.7384\n",
      "Epoch 70: saving model to model/keypoint_classifier\\keypoint_classifier.hdf5\n",
      "42/42 [==============================] - 0s 3ms/step - loss: 0.6847 - accuracy: 0.7380 - val_loss: 0.3437 - val_accuracy: 0.9354\n",
      "Epoch 71/1000\n",
      "27/42 [==================>...........] - ETA: 0s - loss: 0.6920 - accuracy: 0.7384\n",
      "Epoch 71: saving model to model/keypoint_classifier\\keypoint_classifier.hdf5\n",
      "42/42 [==============================] - 0s 3ms/step - loss: 0.6918 - accuracy: 0.7398 - val_loss: 0.3431 - val_accuracy: 0.9366\n",
      "Epoch 72/1000\n",
      "25/42 [================>.............] - ETA: 0s - loss: 0.6970 - accuracy: 0.7344\n",
      "Epoch 72: saving model to model/keypoint_classifier\\keypoint_classifier.hdf5\n",
      "42/42 [==============================] - 0s 3ms/step - loss: 0.6924 - accuracy: 0.7398 - val_loss: 0.3412 - val_accuracy: 0.9343\n",
      "Epoch 73/1000\n",
      "25/42 [================>.............] - ETA: 0s - loss: 0.7116 - accuracy: 0.7319\n",
      "Epoch 73: saving model to model/keypoint_classifier\\keypoint_classifier.hdf5\n",
      "42/42 [==============================] - 0s 4ms/step - loss: 0.7148 - accuracy: 0.7290 - val_loss: 0.3464 - val_accuracy: 0.9354\n",
      "Epoch 74/1000\n",
      "29/42 [===================>..........] - ETA: 0s - loss: 0.6664 - accuracy: 0.7460\n",
      "Epoch 74: saving model to model/keypoint_classifier\\keypoint_classifier.hdf5\n",
      "42/42 [==============================] - 0s 3ms/step - loss: 0.6828 - accuracy: 0.7402 - val_loss: 0.3429 - val_accuracy: 0.9326\n",
      "Epoch 75/1000\n",
      "28/42 [===================>..........] - ETA: 0s - loss: 0.6738 - accuracy: 0.7425\n",
      "Epoch 75: saving model to model/keypoint_classifier\\keypoint_classifier.hdf5\n",
      "42/42 [==============================] - 0s 3ms/step - loss: 0.6755 - accuracy: 0.7445 - val_loss: 0.3337 - val_accuracy: 0.9399\n",
      "Epoch 76/1000\n",
      "31/42 [=====================>........] - ETA: 0s - loss: 0.6681 - accuracy: 0.7457\n",
      "Epoch 76: saving model to model/keypoint_classifier\\keypoint_classifier.hdf5\n",
      "42/42 [==============================] - 0s 3ms/step - loss: 0.6769 - accuracy: 0.7432 - val_loss: 0.3307 - val_accuracy: 0.9332\n",
      "Epoch 77/1000\n",
      "29/42 [===================>..........] - ETA: 0s - loss: 0.6668 - accuracy: 0.7495\n",
      "Epoch 77: saving model to model/keypoint_classifier\\keypoint_classifier.hdf5\n",
      "42/42 [==============================] - 0s 3ms/step - loss: 0.6724 - accuracy: 0.7503 - val_loss: 0.3285 - val_accuracy: 0.9399\n",
      "Epoch 78/1000\n",
      "30/42 [====================>.........] - ETA: 0s - loss: 0.6671 - accuracy: 0.7508\n",
      "Epoch 78: saving model to model/keypoint_classifier\\keypoint_classifier.hdf5\n",
      "42/42 [==============================] - 0s 3ms/step - loss: 0.6631 - accuracy: 0.7509 - val_loss: 0.3308 - val_accuracy: 0.9371\n",
      "Epoch 79/1000\n",
      "31/42 [=====================>........] - ETA: 0s - loss: 0.6861 - accuracy: 0.7414\n",
      "Epoch 79: saving model to model/keypoint_classifier\\keypoint_classifier.hdf5\n",
      "42/42 [==============================] - 0s 3ms/step - loss: 0.6868 - accuracy: 0.7432 - val_loss: 0.3307 - val_accuracy: 0.9394\n",
      "Epoch 80/1000\n",
      "34/42 [=======================>......] - ETA: 0s - loss: 0.6738 - accuracy: 0.7410\n",
      "Epoch 80: saving model to model/keypoint_classifier\\keypoint_classifier.hdf5\n",
      "42/42 [==============================] - 0s 3ms/step - loss: 0.6758 - accuracy: 0.7398 - val_loss: 0.3379 - val_accuracy: 0.9405\n",
      "Epoch 81/1000\n",
      "28/42 [===================>..........] - ETA: 0s - loss: 0.6750 - accuracy: 0.7500\n",
      "Epoch 81: saving model to model/keypoint_classifier\\keypoint_classifier.hdf5\n",
      "42/42 [==============================] - 0s 3ms/step - loss: 0.6723 - accuracy: 0.7528 - val_loss: 0.3262 - val_accuracy: 0.9377\n",
      "Epoch 82/1000\n",
      "33/42 [======================>.......] - ETA: 0s - loss: 0.6658 - accuracy: 0.7398\n",
      "Epoch 82: saving model to model/keypoint_classifier\\keypoint_classifier.hdf5\n",
      "42/42 [==============================] - 0s 3ms/step - loss: 0.6660 - accuracy: 0.7419 - val_loss: 0.3347 - val_accuracy: 0.9422\n",
      "Epoch 83/1000\n",
      "29/42 [===================>..........] - ETA: 0s - loss: 0.6670 - accuracy: 0.7465\n",
      "Epoch 83: saving model to model/keypoint_classifier\\keypoint_classifier.hdf5\n",
      "42/42 [==============================] - 0s 3ms/step - loss: 0.6661 - accuracy: 0.7447 - val_loss: 0.3272 - val_accuracy: 0.9360\n",
      "Epoch 84/1000\n",
      "31/42 [=====================>........] - ETA: 0s - loss: 0.6680 - accuracy: 0.7490\n",
      "Epoch 84: saving model to model/keypoint_classifier\\keypoint_classifier.hdf5\n",
      "42/42 [==============================] - 0s 3ms/step - loss: 0.6724 - accuracy: 0.7456 - val_loss: 0.3263 - val_accuracy: 0.9450\n",
      "Epoch 85/1000\n",
      "38/42 [==========================>...] - ETA: 0s - loss: 0.6596 - accuracy: 0.7504\n",
      "Epoch 85: saving model to model/keypoint_classifier\\keypoint_classifier.hdf5\n",
      "42/42 [==============================] - 0s 5ms/step - loss: 0.6610 - accuracy: 0.7518 - val_loss: 0.3256 - val_accuracy: 0.9444\n",
      "Epoch 86/1000\n",
      "33/42 [======================>.......] - ETA: 0s - loss: 0.6650 - accuracy: 0.7526\n",
      "Epoch 86: saving model to model/keypoint_classifier\\keypoint_classifier.hdf5\n",
      "42/42 [==============================] - 0s 3ms/step - loss: 0.6658 - accuracy: 0.7507 - val_loss: 0.3263 - val_accuracy: 0.9405\n",
      "Epoch 87/1000\n",
      "23/42 [===============>..............] - ETA: 0s - loss: 0.6663 - accuracy: 0.7449\n",
      "Epoch 87: saving model to model/keypoint_classifier\\keypoint_classifier.hdf5\n",
      "42/42 [==============================] - 0s 4ms/step - loss: 0.6646 - accuracy: 0.7498 - val_loss: 0.3227 - val_accuracy: 0.9433\n",
      "Epoch 88/1000\n",
      "32/42 [=====================>........] - ETA: 0s - loss: 0.6524 - accuracy: 0.7617\n",
      "Epoch 88: saving model to model/keypoint_classifier\\keypoint_classifier.hdf5\n",
      "42/42 [==============================] - 0s 3ms/step - loss: 0.6509 - accuracy: 0.7610 - val_loss: 0.3153 - val_accuracy: 0.9399\n",
      "Epoch 89/1000\n",
      "36/42 [========================>.....] - ETA: 0s - loss: 0.6611 - accuracy: 0.7548\n",
      "Epoch 89: saving model to model/keypoint_classifier\\keypoint_classifier.hdf5\n",
      "42/42 [==============================] - 0s 3ms/step - loss: 0.6599 - accuracy: 0.7546 - val_loss: 0.3160 - val_accuracy: 0.9444\n",
      "Epoch 90/1000\n",
      "33/42 [======================>.......] - ETA: 0s - loss: 0.6713 - accuracy: 0.7467\n",
      "Epoch 90: saving model to model/keypoint_classifier\\keypoint_classifier.hdf5\n",
      "42/42 [==============================] - 0s 3ms/step - loss: 0.6645 - accuracy: 0.7494 - val_loss: 0.3221 - val_accuracy: 0.9377\n",
      "Epoch 91/1000\n",
      "33/42 [======================>.......] - ETA: 0s - loss: 0.6628 - accuracy: 0.7531\n",
      "Epoch 91: saving model to model/keypoint_classifier\\keypoint_classifier.hdf5\n",
      "42/42 [==============================] - 0s 3ms/step - loss: 0.6646 - accuracy: 0.7529 - val_loss: 0.3209 - val_accuracy: 0.9483\n",
      "Epoch 92/1000\n",
      "29/42 [===================>..........] - ETA: 0s - loss: 0.6501 - accuracy: 0.7581\n",
      "Epoch 92: saving model to model/keypoint_classifier\\keypoint_classifier.hdf5\n",
      "42/42 [==============================] - 0s 3ms/step - loss: 0.6561 - accuracy: 0.7604 - val_loss: 0.3216 - val_accuracy: 0.9382\n",
      "Epoch 93/1000\n",
      "25/42 [================>.............] - ETA: 0s - loss: 0.6639 - accuracy: 0.7534\n",
      "Epoch 93: saving model to model/keypoint_classifier\\keypoint_classifier.hdf5\n",
      "42/42 [==============================] - 0s 3ms/step - loss: 0.6718 - accuracy: 0.7516 - val_loss: 0.3219 - val_accuracy: 0.9371\n",
      "Epoch 94/1000\n",
      "28/42 [===================>..........] - ETA: 0s - loss: 0.6501 - accuracy: 0.7584\n",
      "Epoch 94: saving model to model/keypoint_classifier\\keypoint_classifier.hdf5\n",
      "42/42 [==============================] - 0s 3ms/step - loss: 0.6574 - accuracy: 0.7561 - val_loss: 0.3130 - val_accuracy: 0.9394\n",
      "Epoch 95/1000\n",
      "28/42 [===================>..........] - ETA: 0s - loss: 0.6552 - accuracy: 0.7575\n",
      "Epoch 95: saving model to model/keypoint_classifier\\keypoint_classifier.hdf5\n",
      "42/42 [==============================] - 0s 3ms/step - loss: 0.6540 - accuracy: 0.7569 - val_loss: 0.3125 - val_accuracy: 0.9410\n",
      "Epoch 96/1000\n",
      "30/42 [====================>.........] - ETA: 0s - loss: 0.6528 - accuracy: 0.7518\n",
      "Epoch 96: saving model to model/keypoint_classifier\\keypoint_classifier.hdf5\n",
      "42/42 [==============================] - 0s 3ms/step - loss: 0.6473 - accuracy: 0.7541 - val_loss: 0.3078 - val_accuracy: 0.9450\n",
      "Epoch 97/1000\n",
      "32/42 [=====================>........] - ETA: 0s - loss: 0.6586 - accuracy: 0.7498\n",
      "Epoch 97: saving model to model/keypoint_classifier\\keypoint_classifier.hdf5\n",
      "42/42 [==============================] - 0s 3ms/step - loss: 0.6572 - accuracy: 0.7539 - val_loss: 0.3132 - val_accuracy: 0.9455\n",
      "Epoch 98/1000\n",
      "28/42 [===================>..........] - ETA: 0s - loss: 0.6465 - accuracy: 0.7614\n",
      "Epoch 98: saving model to model/keypoint_classifier\\keypoint_classifier.hdf5\n",
      "42/42 [==============================] - 0s 3ms/step - loss: 0.6424 - accuracy: 0.7612 - val_loss: 0.3145 - val_accuracy: 0.9410\n",
      "Epoch 99/1000\n",
      "28/42 [===================>..........] - ETA: 0s - loss: 0.6370 - accuracy: 0.7589\n",
      "Epoch 99: saving model to model/keypoint_classifier\\keypoint_classifier.hdf5\n",
      "42/42 [==============================] - 0s 3ms/step - loss: 0.6482 - accuracy: 0.7589 - val_loss: 0.3183 - val_accuracy: 0.9394\n",
      "Epoch 100/1000\n",
      "30/42 [====================>.........] - ETA: 0s - loss: 0.6585 - accuracy: 0.7531\n",
      "Epoch 100: saving model to model/keypoint_classifier\\keypoint_classifier.hdf5\n",
      "42/42 [==============================] - 0s 3ms/step - loss: 0.6482 - accuracy: 0.7531 - val_loss: 0.3100 - val_accuracy: 0.9399\n",
      "Epoch 101/1000\n",
      "31/42 [=====================>........] - ETA: 0s - loss: 0.6490 - accuracy: 0.7515\n",
      "Epoch 101: saving model to model/keypoint_classifier\\keypoint_classifier.hdf5\n",
      "42/42 [==============================] - 0s 3ms/step - loss: 0.6496 - accuracy: 0.7591 - val_loss: 0.3133 - val_accuracy: 0.9455\n",
      "Epoch 102/1000\n",
      "24/42 [================>.............] - ETA: 0s - loss: 0.6400 - accuracy: 0.7568\n",
      "Epoch 102: saving model to model/keypoint_classifier\\keypoint_classifier.hdf5\n",
      "42/42 [==============================] - 0s 4ms/step - loss: 0.6367 - accuracy: 0.7593 - val_loss: 0.3015 - val_accuracy: 0.9461\n",
      "Epoch 103/1000\n",
      "24/42 [================>.............] - ETA: 0s - loss: 0.6289 - accuracy: 0.7673\n",
      "Epoch 103: saving model to model/keypoint_classifier\\keypoint_classifier.hdf5\n",
      "42/42 [==============================] - 0s 4ms/step - loss: 0.6376 - accuracy: 0.7647 - val_loss: 0.3048 - val_accuracy: 0.9467\n",
      "Epoch 104/1000\n",
      "35/42 [========================>.....] - ETA: 0s - loss: 0.6403 - accuracy: 0.7636\n",
      "Epoch 104: saving model to model/keypoint_classifier\\keypoint_classifier.hdf5\n",
      "42/42 [==============================] - 0s 4ms/step - loss: 0.6414 - accuracy: 0.7616 - val_loss: 0.3081 - val_accuracy: 0.9455\n",
      "Epoch 105/1000\n",
      "30/42 [====================>.........] - ETA: 0s - loss: 0.6259 - accuracy: 0.7589\n",
      "Epoch 105: saving model to model/keypoint_classifier\\keypoint_classifier.hdf5\n",
      "42/42 [==============================] - 0s 3ms/step - loss: 0.6270 - accuracy: 0.7606 - val_loss: 0.3157 - val_accuracy: 0.9439\n",
      "Epoch 106/1000\n",
      "29/42 [===================>..........] - ETA: 0s - loss: 0.6283 - accuracy: 0.7667\n",
      "Epoch 106: saving model to model/keypoint_classifier\\keypoint_classifier.hdf5\n",
      "42/42 [==============================] - 0s 3ms/step - loss: 0.6403 - accuracy: 0.7640 - val_loss: 0.3218 - val_accuracy: 0.9433\n",
      "Epoch 107/1000\n",
      "33/42 [======================>.......] - ETA: 0s - loss: 0.6281 - accuracy: 0.7682\n",
      "Epoch 107: saving model to model/keypoint_classifier\\keypoint_classifier.hdf5\n",
      "42/42 [==============================] - 0s 3ms/step - loss: 0.6291 - accuracy: 0.7687 - val_loss: 0.3041 - val_accuracy: 0.9433\n",
      "Epoch 108/1000\n",
      "27/42 [==================>...........] - ETA: 0s - loss: 0.6247 - accuracy: 0.7645\n",
      "Epoch 108: saving model to model/keypoint_classifier\\keypoint_classifier.hdf5\n",
      "42/42 [==============================] - 0s 3ms/step - loss: 0.6361 - accuracy: 0.7616 - val_loss: 0.3058 - val_accuracy: 0.9467\n",
      "Epoch 109/1000\n",
      "28/42 [===================>..........] - ETA: 0s - loss: 0.6311 - accuracy: 0.7751\n",
      "Epoch 109: saving model to model/keypoint_classifier\\keypoint_classifier.hdf5\n",
      "42/42 [==============================] - 0s 3ms/step - loss: 0.6219 - accuracy: 0.7743 - val_loss: 0.3078 - val_accuracy: 0.9410\n",
      "Epoch 110/1000\n",
      "32/42 [=====================>........] - ETA: 0s - loss: 0.6540 - accuracy: 0.7534\n",
      "Epoch 110: saving model to model/keypoint_classifier\\keypoint_classifier.hdf5\n",
      "42/42 [==============================] - 0s 3ms/step - loss: 0.6529 - accuracy: 0.7550 - val_loss: 0.3087 - val_accuracy: 0.9444\n",
      "Epoch 111/1000\n",
      "36/42 [========================>.....] - ETA: 0s - loss: 0.6348 - accuracy: 0.7622\n",
      "Epoch 111: saving model to model/keypoint_classifier\\keypoint_classifier.hdf5\n",
      "42/42 [==============================] - 0s 3ms/step - loss: 0.6434 - accuracy: 0.7616 - val_loss: 0.3094 - val_accuracy: 0.9371\n",
      "Epoch 112/1000\n",
      "27/42 [==================>...........] - ETA: 0s - loss: 0.6316 - accuracy: 0.7688\n",
      "Epoch 112: saving model to model/keypoint_classifier\\keypoint_classifier.hdf5\n",
      "42/42 [==============================] - 0s 3ms/step - loss: 0.6294 - accuracy: 0.7679 - val_loss: 0.3206 - val_accuracy: 0.9382\n",
      "Epoch 113/1000\n",
      "33/42 [======================>.......] - ETA: 0s - loss: 0.6330 - accuracy: 0.7628\n",
      "Epoch 113: saving model to model/keypoint_classifier\\keypoint_classifier.hdf5\n",
      "42/42 [==============================] - 0s 3ms/step - loss: 0.6279 - accuracy: 0.7625 - val_loss: 0.3078 - val_accuracy: 0.9444\n",
      "Epoch 114/1000\n",
      "33/42 [======================>.......] - ETA: 0s - loss: 0.6471 - accuracy: 0.7590\n",
      "Epoch 114: saving model to model/keypoint_classifier\\keypoint_classifier.hdf5\n",
      "42/42 [==============================] - 0s 7ms/step - loss: 0.6474 - accuracy: 0.7625 - val_loss: 0.3036 - val_accuracy: 0.9472\n",
      "Epoch 115/1000\n",
      "36/42 [========================>.....] - ETA: 0s - loss: 0.6485 - accuracy: 0.7569\n",
      "Epoch 115: saving model to model/keypoint_classifier\\keypoint_classifier.hdf5\n",
      "42/42 [==============================] - 0s 9ms/step - loss: 0.6386 - accuracy: 0.7612 - val_loss: 0.3145 - val_accuracy: 0.9455\n",
      "Epoch 116/1000\n",
      "40/42 [===========================>..] - ETA: 0s - loss: 0.5901 - accuracy: 0.7809\n",
      "Epoch 116: saving model to model/keypoint_classifier\\keypoint_classifier.hdf5\n",
      "42/42 [==============================] - 0s 6ms/step - loss: 0.5905 - accuracy: 0.7816 - val_loss: 0.3035 - val_accuracy: 0.9444\n",
      "Epoch 117/1000\n",
      "25/42 [================>.............] - ETA: 0s - loss: 0.6423 - accuracy: 0.7616\n",
      "Epoch 117: saving model to model/keypoint_classifier\\keypoint_classifier.hdf5\n",
      "42/42 [==============================] - 0s 3ms/step - loss: 0.6267 - accuracy: 0.7666 - val_loss: 0.2930 - val_accuracy: 0.9478\n",
      "Epoch 118/1000\n",
      "36/42 [========================>.....] - ETA: 0s - loss: 0.6439 - accuracy: 0.7604\n",
      "Epoch 118: saving model to model/keypoint_classifier\\keypoint_classifier.hdf5\n",
      "42/42 [==============================] - 0s 5ms/step - loss: 0.6383 - accuracy: 0.7612 - val_loss: 0.3023 - val_accuracy: 0.9433\n",
      "Epoch 119/1000\n",
      "35/42 [========================>.....] - ETA: 0s - loss: 0.6386 - accuracy: 0.7598\n",
      "Epoch 119: saving model to model/keypoint_classifier\\keypoint_classifier.hdf5\n",
      "42/42 [==============================] - 0s 3ms/step - loss: 0.6344 - accuracy: 0.7608 - val_loss: 0.3151 - val_accuracy: 0.9382\n",
      "Epoch 120/1000\n",
      "24/42 [================>.............] - ETA: 0s - loss: 0.6119 - accuracy: 0.7770\n",
      "Epoch 120: saving model to model/keypoint_classifier\\keypoint_classifier.hdf5\n",
      "42/42 [==============================] - 0s 4ms/step - loss: 0.6242 - accuracy: 0.7720 - val_loss: 0.3038 - val_accuracy: 0.9467\n",
      "Epoch 121/1000\n",
      "21/42 [==============>...............] - ETA: 0s - loss: 0.6441 - accuracy: 0.7645\n",
      "Epoch 121: saving model to model/keypoint_classifier\\keypoint_classifier.hdf5\n",
      "42/42 [==============================] - 0s 4ms/step - loss: 0.6374 - accuracy: 0.7640 - val_loss: 0.3116 - val_accuracy: 0.9467\n",
      "Epoch 122/1000\n",
      "24/42 [================>.............] - ETA: 0s - loss: 0.6254 - accuracy: 0.7627\n",
      "Epoch 122: saving model to model/keypoint_classifier\\keypoint_classifier.hdf5\n",
      "42/42 [==============================] - 0s 3ms/step - loss: 0.6286 - accuracy: 0.7653 - val_loss: 0.3084 - val_accuracy: 0.9450\n",
      "Epoch 123/1000\n",
      "24/42 [================>.............] - ETA: 0s - loss: 0.6332 - accuracy: 0.7663\n",
      "Epoch 123: saving model to model/keypoint_classifier\\keypoint_classifier.hdf5\n",
      "42/42 [==============================] - 1s 12ms/step - loss: 0.6305 - accuracy: 0.7683 - val_loss: 0.3014 - val_accuracy: 0.9489\n",
      "Epoch 124/1000\n",
      "31/42 [=====================>........] - ETA: 0s - loss: 0.6336 - accuracy: 0.7634\n",
      "Epoch 124: saving model to model/keypoint_classifier\\keypoint_classifier.hdf5\n",
      "42/42 [==============================] - 0s 11ms/step - loss: 0.6237 - accuracy: 0.7653 - val_loss: 0.3009 - val_accuracy: 0.9478\n",
      "Epoch 125/1000\n",
      "23/42 [===============>..............] - ETA: 0s - loss: 0.6306 - accuracy: 0.7663\n",
      "Epoch 125: saving model to model/keypoint_classifier\\keypoint_classifier.hdf5\n",
      "42/42 [==============================] - 0s 9ms/step - loss: 0.6193 - accuracy: 0.7685 - val_loss: 0.2955 - val_accuracy: 0.9467\n",
      "Epoch 126/1000\n",
      "27/42 [==================>...........] - ETA: 0s - loss: 0.6331 - accuracy: 0.7662\n",
      "Epoch 126: saving model to model/keypoint_classifier\\keypoint_classifier.hdf5\n",
      "42/42 [==============================] - 0s 4ms/step - loss: 0.6306 - accuracy: 0.7657 - val_loss: 0.3074 - val_accuracy: 0.9455\n",
      "Epoch 127/1000\n",
      "21/42 [==============>...............] - ETA: 0s - loss: 0.6212 - accuracy: 0.7779\n",
      "Epoch 127: saving model to model/keypoint_classifier\\keypoint_classifier.hdf5\n",
      "42/42 [==============================] - 0s 4ms/step - loss: 0.6103 - accuracy: 0.7777 - val_loss: 0.2985 - val_accuracy: 0.9450\n",
      "Epoch 128/1000\n",
      "27/42 [==================>...........] - ETA: 0s - loss: 0.6217 - accuracy: 0.7688\n",
      "Epoch 128: saving model to model/keypoint_classifier\\keypoint_classifier.hdf5\n",
      "42/42 [==============================] - 0s 3ms/step - loss: 0.6146 - accuracy: 0.7730 - val_loss: 0.3028 - val_accuracy: 0.9422\n",
      "Epoch 129/1000\n",
      "29/42 [===================>..........] - ETA: 0s - loss: 0.6338 - accuracy: 0.7654\n",
      "Epoch 129: saving model to model/keypoint_classifier\\keypoint_classifier.hdf5\n",
      "42/42 [==============================] - 0s 3ms/step - loss: 0.6317 - accuracy: 0.7675 - val_loss: 0.2962 - val_accuracy: 0.9410\n",
      "Epoch 130/1000\n",
      "29/42 [===================>..........] - ETA: 0s - loss: 0.6177 - accuracy: 0.7697\n",
      "Epoch 130: saving model to model/keypoint_classifier\\keypoint_classifier.hdf5\n",
      "42/42 [==============================] - 0s 3ms/step - loss: 0.6248 - accuracy: 0.7702 - val_loss: 0.3055 - val_accuracy: 0.9433\n",
      "Epoch 131/1000\n",
      "33/42 [======================>.......] - ETA: 0s - loss: 0.6167 - accuracy: 0.7746\n",
      "Epoch 131: saving model to model/keypoint_classifier\\keypoint_classifier.hdf5\n",
      "42/42 [==============================] - 0s 3ms/step - loss: 0.6197 - accuracy: 0.7724 - val_loss: 0.2988 - val_accuracy: 0.9467\n",
      "Epoch 132/1000\n",
      "32/42 [=====================>........] - ETA: 0s - loss: 0.6217 - accuracy: 0.7661\n",
      "Epoch 132: saving model to model/keypoint_classifier\\keypoint_classifier.hdf5\n",
      "42/42 [==============================] - 0s 5ms/step - loss: 0.6128 - accuracy: 0.7698 - val_loss: 0.3097 - val_accuracy: 0.9439\n",
      "Epoch 133/1000\n",
      "32/42 [=====================>........] - ETA: 0s - loss: 0.5860 - accuracy: 0.7830\n",
      "Epoch 133: saving model to model/keypoint_classifier\\keypoint_classifier.hdf5\n",
      "42/42 [==============================] - 0s 3ms/step - loss: 0.5892 - accuracy: 0.7808 - val_loss: 0.3046 - val_accuracy: 0.9422\n",
      "Epoch 134/1000\n",
      "26/42 [=================>............] - ETA: 0s - loss: 0.6040 - accuracy: 0.7773\n",
      "Epoch 134: saving model to model/keypoint_classifier\\keypoint_classifier.hdf5\n",
      "42/42 [==============================] - 0s 4ms/step - loss: 0.6116 - accuracy: 0.7733 - val_loss: 0.2948 - val_accuracy: 0.9478\n",
      "Epoch 135/1000\n",
      "35/42 [========================>.....] - ETA: 0s - loss: 0.6000 - accuracy: 0.7739\n",
      "Epoch 135: saving model to model/keypoint_classifier\\keypoint_classifier.hdf5\n",
      "42/42 [==============================] - 0s 3ms/step - loss: 0.6092 - accuracy: 0.7705 - val_loss: 0.2954 - val_accuracy: 0.9455\n",
      "Epoch 136/1000\n",
      "31/42 [=====================>........] - ETA: 0s - loss: 0.6402 - accuracy: 0.7621\n",
      "Epoch 136: saving model to model/keypoint_classifier\\keypoint_classifier.hdf5\n",
      "42/42 [==============================] - 0s 3ms/step - loss: 0.6264 - accuracy: 0.7698 - val_loss: 0.3000 - val_accuracy: 0.9495\n",
      "Epoch 137/1000\n",
      "27/42 [==================>...........] - ETA: 0s - loss: 0.6075 - accuracy: 0.7749\n",
      "Epoch 137: saving model to model/keypoint_classifier\\keypoint_classifier.hdf5\n",
      "42/42 [==============================] - 0s 3ms/step - loss: 0.5979 - accuracy: 0.7786 - val_loss: 0.3051 - val_accuracy: 0.9444\n",
      "Epoch 137: early stopping\n"
     ]
    },
    {
     "data": {
      "text/plain": [
       "<keras.callbacks.History at 0x26ec0413820>"
      ]
     },
     "execution_count": 53,
     "metadata": {},
     "output_type": "execute_result"
    }
   ],
   "source": [
    "model.fit(\n",
    "    X_train,\n",
    "    y_train,\n",
    "    epochs=1000,\n",
    "    batch_size=128,\n",
    "    validation_data=(X_test, y_test),\n",
    "    callbacks=[cp_callback, es_callback]\n",
    ")"
   ]
  },
  {
   "cell_type": "code",
   "execution_count": 56,
   "metadata": {},
   "outputs": [
    {
     "name": "stdout",
     "output_type": "stream",
     "text": [
      "14/14 [==============================] - 0s 2ms/step - loss: 0.3051 - accuracy: 0.9444\n"
     ]
    }
   ],
   "source": [
    "# モデル評価\n",
    "val_loss, val_acc = model.evaluate(X_test, y_test, batch_size=128)"
   ]
  },
  {
   "cell_type": "code",
   "execution_count": 57,
   "metadata": {},
   "outputs": [],
   "source": [
    "# 保存したモデルのロード\n",
    "model = tf.keras.models.load_model(model_save_path)"
   ]
  },
  {
   "cell_type": "code",
   "execution_count": 58,
   "metadata": {},
   "outputs": [
    {
     "name": "stdout",
     "output_type": "stream",
     "text": [
      "1/1 [==============================] - 0s 73ms/step\n",
      "[0.02991272 0.0939853  0.46889088 0.10559291 0.30161825]\n",
      "2\n"
     ]
    }
   ],
   "source": [
    "# 推論テスト\n",
    "predict_result = model.predict(np.array([X_test[0]]))\n",
    "print(np.squeeze(predict_result))\n",
    "print(np.argmax(np.squeeze(predict_result)))"
   ]
  },
  {
   "cell_type": "markdown",
   "metadata": {},
   "source": [
    "# 混同行列"
   ]
  },
  {
   "cell_type": "code",
   "execution_count": 15,
   "metadata": {},
   "outputs": [
    {
     "ename": "ModuleNotFoundError",
     "evalue": "No module named 'pandas'",
     "output_type": "error",
     "traceback": [
      "\u001b[1;31m---------------------------------------------------------------------------\u001b[0m",
      "\u001b[1;31mModuleNotFoundError\u001b[0m                       Traceback (most recent call last)",
      "Cell \u001b[1;32mIn[15], line 1\u001b[0m\n\u001b[1;32m----> 1\u001b[0m \u001b[38;5;28;01mimport\u001b[39;00m \u001b[38;5;21;01mpandas\u001b[39;00m \u001b[38;5;28;01mas\u001b[39;00m \u001b[38;5;21;01mpd\u001b[39;00m\n\u001b[0;32m      2\u001b[0m \u001b[38;5;28;01mimport\u001b[39;00m \u001b[38;5;21;01mseaborn\u001b[39;00m \u001b[38;5;28;01mas\u001b[39;00m \u001b[38;5;21;01msns\u001b[39;00m\n\u001b[0;32m      3\u001b[0m \u001b[38;5;28;01mimport\u001b[39;00m \u001b[38;5;21;01mmatplotlib\u001b[39;00m\u001b[38;5;21;01m.\u001b[39;00m\u001b[38;5;21;01mpyplot\u001b[39;00m \u001b[38;5;28;01mas\u001b[39;00m \u001b[38;5;21;01mplt\u001b[39;00m\n",
      "\u001b[1;31mModuleNotFoundError\u001b[0m: No module named 'pandas'"
     ]
    }
   ],
   "source": [
    "import pandas as pd\n",
    "import seaborn as sns\n",
    "import matplotlib.pyplot as plt\n",
    "from sklearn.metrics import confusion_matrix, classification_report\n",
    "\n",
    "def print_confusion_matrix(y_true, y_pred, report=True):\n",
    "    labels = sorted(list(set(y_true)))\n",
    "    cmx_data = confusion_matrix(y_true, y_pred, labels=labels)\n",
    "    \n",
    "    df_cmx = pd.DataFrame(cmx_data, index=labels, columns=labels)\n",
    " \n",
    "    fig, ax = plt.subplots(figsize=(7, 6))\n",
    "    sns.heatmap(df_cmx, annot=True, fmt='g' ,square=False)\n",
    "    ax.set_ylim(len(set(y_true)), 0)\n",
    "    plt.show()\n",
    "    \n",
    "    if report:\n",
    "        print('Classification Report')\n",
    "        print(classification_report(y_test, y_pred))\n",
    "\n",
    "Y_pred = model.predict(X_test)\n",
    "y_pred = np.argmax(Y_pred, axis=1)\n",
    "\n",
    "print_confusion_matrix(y_test, y_pred)"
   ]
  },
  {
   "cell_type": "markdown",
   "metadata": {},
   "source": [
    "# Tensorflow-Lite用のモデルへ変換"
   ]
  },
  {
   "cell_type": "code",
   "execution_count": 59,
   "metadata": {},
   "outputs": [],
   "source": [
    "# 推論専用のモデルとして保存\n",
    "model.save(model_save_path, include_optimizer=False)"
   ]
  },
  {
   "cell_type": "code",
   "execution_count": 60,
   "metadata": {},
   "outputs": [
    {
     "name": "stdout",
     "output_type": "stream",
     "text": [
      "INFO:tensorflow:Assets written to: C:\\Users\\shwet\\AppData\\Local\\Temp\\tmp9nk7uifh\\assets\n"
     ]
    },
    {
     "name": "stderr",
     "output_type": "stream",
     "text": [
      "INFO:tensorflow:Assets written to: C:\\Users\\shwet\\AppData\\Local\\Temp\\tmp9nk7uifh\\assets\n"
     ]
    },
    {
     "data": {
      "text/plain": [
       "6560"
      ]
     },
     "execution_count": 60,
     "metadata": {},
     "output_type": "execute_result"
    }
   ],
   "source": [
    "# モデルを変換(量子化)\n",
    "tflite_save_path = 'model/keypoint_classifier/keypoint_classifier.tflite'\n",
    "\n",
    "converter = tf.lite.TFLiteConverter.from_keras_model(model)\n",
    "converter.optimizations = [tf.lite.Optimize.DEFAULT]\n",
    "tflite_quantized_model = converter.convert()\n",
    "\n",
    "open(tflite_save_path, 'wb').write(tflite_quantized_model)"
   ]
  },
  {
   "cell_type": "markdown",
   "metadata": {},
   "source": [
    "# 推論テスト"
   ]
  },
  {
   "cell_type": "code",
   "execution_count": 61,
   "metadata": {},
   "outputs": [],
   "source": [
    "interpreter = tf.lite.Interpreter(model_path=tflite_save_path)\n",
    "interpreter.allocate_tensors()"
   ]
  },
  {
   "cell_type": "code",
   "execution_count": 62,
   "metadata": {},
   "outputs": [],
   "source": [
    "# 入出力テンソルを取得\n",
    "input_details = interpreter.get_input_details()\n",
    "output_details = interpreter.get_output_details()"
   ]
  },
  {
   "cell_type": "code",
   "execution_count": 63,
   "metadata": {},
   "outputs": [],
   "source": [
    "interpreter.set_tensor(input_details[0]['index'], np.array([X_test[0]]))"
   ]
  },
  {
   "cell_type": "code",
   "execution_count": 64,
   "metadata": {
    "scrolled": true
   },
   "outputs": [
    {
     "name": "stdout",
     "output_type": "stream",
     "text": [
      "CPU times: total: 0 ns\n",
      "Wall time: 0 ns\n"
     ]
    }
   ],
   "source": [
    "%%time\n",
    "# 推論実施\n",
    "interpreter.invoke()\n",
    "tflite_results = interpreter.get_tensor(output_details[0]['index'])"
   ]
  },
  {
   "cell_type": "code",
   "execution_count": 65,
   "metadata": {},
   "outputs": [
    {
     "name": "stdout",
     "output_type": "stream",
     "text": [
      "[0.02991272 0.0939853  0.46889085 0.10559289 0.30161828]\n",
      "2\n"
     ]
    }
   ],
   "source": [
    "print(np.squeeze(tflite_results))\n",
    "print(np.argmax(np.squeeze(tflite_results)))"
   ]
  },
  {
   "cell_type": "code",
   "execution_count": null,
   "metadata": {},
   "outputs": [],
   "source": []
  }
 ],
 "metadata": {
  "kernelspec": {
   "display_name": "Python 3",
   "language": "python",
   "name": "python3"
  },
  "language_info": {
   "codemirror_mode": {
    "name": "ipython",
    "version": 3
   },
   "file_extension": ".py",
   "mimetype": "text/x-python",
   "name": "python",
   "nbconvert_exporter": "python",
   "pygments_lexer": "ipython3",
   "version": "3.10.5"
  }
 },
 "nbformat": 4,
 "nbformat_minor": 4
}
